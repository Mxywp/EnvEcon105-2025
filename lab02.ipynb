{
 "cells": [
  {
   "cell_type": "code",
   "execution_count": null,
   "id": "8b254c1c",
   "metadata": {
    "deletable": false,
    "editable": false
   },
   "outputs": [],
   "source": [
    "# Initialize Otter\n",
    "import otter\n",
    "grader = otter.Notebook(\"lab02.ipynb\")"
   ]
  },
  {
   "cell_type": "markdown",
   "id": "4a53ae40",
   "metadata": {
    "id": "4a53ae40"
   },
   "source": [
    "# Lab 2: Basic operations and Environmental Justice (II)\n",
    "\n",
    "The **objectives** of this lab are to:\n",
    "\n",
    "1. practice basic data transformation in Pandas; \n",
    "2. plot histogram\n"
   ]
  },
  {
   "cell_type": "code",
   "execution_count": null,
   "id": "410884c7-8a2d-4c0e-a073-8e702da28555",
   "metadata": {},
   "outputs": [],
   "source": [
    "!pip install lets_plot"
   ]
  },
  {
   "cell_type": "code",
   "execution_count": null,
   "id": "ec318fcf-61f6-436a-8a93-dc4ada0f90d6",
   "metadata": {},
   "outputs": [],
   "source": [
    "import pandas as pd\n",
    "import numpy as np\n",
    "import matplotlib.pyplot as plt\n",
    "from lets_plot import *\n",
    "import warnings\n",
    "\n",
    "warnings.simplefilter(action='ignore')"
   ]
  },
  {
   "cell_type": "code",
   "execution_count": null,
   "id": "1f4743ac",
   "metadata": {
    "colab": {
     "base_uri": "https://localhost:8080/",
     "height": 206
    },
    "id": "1f4743ac",
    "outputId": "b5386e62-1049-4278-888d-4e847d39aa1b"
   },
   "outputs": [],
   "source": [
    "data_url = \"https://raw.githubusercontent.com/Mxywp/EnvEcon105-2025/refs/heads/data/EJSCREEN_demo2.csv\"\n",
    "df = pd.read_csv(data_url)\n",
    "df.head()"
   ]
  },
  {
   "cell_type": "markdown",
   "id": "dbdc99e6-0c06-4ce2-a211-d070f549772b",
   "metadata": {},
   "source": [
    "**Data Dictionary**\n",
    "    \n",
    "    'fips': 'Census Block code: the first 1 (if state code < 10) or 2 digits represents states, followed by 3 digits for counties',\n",
    "    'ACSTOTPOP': 'Total population'\n",
    "    'P_LDPNT_D2': 'Percentile of EJ index for Lead Paint', (similar for the variables below)\n",
    "    'P_DSLPM_D2': 'Diesel Particulate Matter',\n",
    "    'P_CANCR_D2': 'Air Toxics Cancer Risk',\n",
    "    'P_RESP_D2':  'Respiratory Hazard',\n",
    "    'P_PTRAF_D2': 'Traffic Proximity',\n",
    "    'P_PWDIS_D2': 'Water Discharge',\n",
    "    'P_PNPL_D2':  'National Priority List',\n",
    "    'P_PRMP_D2':  'Risk Management Plan',\n",
    "    'P_PTSDF_D2': 'Treatment Storage and Disposal',\n",
    "    'P_OZONE_D2': 'Ozone Proximity',\n",
    "    'P_PM25_D2':  'PM25',\n",
    "    "
   ]
  },
  {
   "cell_type": "markdown",
   "id": "e2f2df95-2712-48e5-894b-2f0cfaf257c4",
   "metadata": {
    "deletable": false,
    "editable": false,
    "tags": [
     "ignore"
    ]
   },
   "source": [
    "**Question 1:** Which of the columns in `df` are `int64` data types? Put these column names into a Python list and then assign it to `q_1`."
   ]
  },
  {
   "cell_type": "code",
   "execution_count": null,
   "id": "42ba0730-4457-486f-a4bd-a182f5e0b840",
   "metadata": {
    "tags": [
     "otter_answer_cell"
    ]
   },
   "outputs": [],
   "source": [
    "q_1 = ...\n",
    "q_1"
   ]
  },
  {
   "cell_type": "code",
   "execution_count": null,
   "id": "dfb12267",
   "metadata": {
    "deletable": false,
    "editable": false
   },
   "outputs": [],
   "source": [
    "grader.check(\"q_1\")"
   ]
  },
  {
   "cell_type": "markdown",
   "id": "6c436b4b-2590-4b3e-8e54-5818dfa44ca2",
   "metadata": {},
   "source": [
    "A Series is a one-dimensional array-like object containing a sequence of values (of similar types to NumPy types) of the same type and an associated array of data labels, called its index. The simplest Series is formed from only an array of data (See Python for Data Analysis by McKinney-Chapter 5- for more details):"
   ]
  },
  {
   "cell_type": "code",
   "execution_count": null,
   "id": "5d3eaa0e-ec5f-48d0-b776-d8b9611ba42c",
   "metadata": {},
   "outputs": [],
   "source": [
    "obj = pd.Series([4, 7, -5, 3])\n",
    "obj"
   ]
  },
  {
   "cell_type": "code",
   "execution_count": null,
   "id": "8cb4d4ee-6b6e-45d8-9f76-9b7ae6144c5d",
   "metadata": {},
   "outputs": [],
   "source": [
    "obj2 = pd.Series([4, 7, -5, 3], index=[\"d\", \"b\", \"a\", \"c\"])\n",
    "obj2"
   ]
  },
  {
   "cell_type": "markdown",
   "id": "ee207a37-90d1-49a1-84cb-1f01b9144aa8",
   "metadata": {
    "deletable": false,
    "editable": false,
    "tags": [
     "ignore"
    ]
   },
   "source": [
    "**Question 2:** count the number of missing values for every environmental justice score in the dataset (e.g., P_RESP_D2). Whatever the code you choose, please return a Pandas.Series object, with column names as the index, the number of missing values as the data values. Then assign this Series to `q_2`."
   ]
  },
  {
   "cell_type": "code",
   "execution_count": null,
   "id": "bcd3362a-4b28-40e4-b485-21cfa4e76677",
   "metadata": {
    "tags": [
     "otter_answer_cell"
    ]
   },
   "outputs": [],
   "source": [
    "q_2 = ...\n",
    "q_2"
   ]
  },
  {
   "cell_type": "code",
   "execution_count": null,
   "id": "2f2aba7b",
   "metadata": {
    "deletable": false,
    "editable": false
   },
   "outputs": [],
   "source": [
    "grader.check(\"q_2\")"
   ]
  },
  {
   "cell_type": "markdown",
   "id": "ea29bab8-733c-44ca-b0a4-ebfeef20d51c",
   "metadata": {
    "deletable": false,
    "editable": false
   },
   "source": [
    "**Question 3:**  What is the average population represented by a Census Block Group (FIPS code)?  Assign the value to q_3. "
   ]
  },
  {
   "cell_type": "code",
   "execution_count": null,
   "id": "8e00a036-cc2f-4e44-b860-ffe63ddd7b2c",
   "metadata": {
    "tags": [
     "otter_answer_cell"
    ]
   },
   "outputs": [],
   "source": [
    "q_3 = ...\n",
    "q_3"
   ]
  },
  {
   "cell_type": "code",
   "execution_count": null,
   "id": "d4fe06fa",
   "metadata": {
    "deletable": false,
    "editable": false
   },
   "outputs": [],
   "source": [
    "grader.check(\"q_3\")"
   ]
  },
  {
   "cell_type": "markdown",
   "id": "85eb9a73-90c3-440b-bf21-0cb9b0f985bd",
   "metadata": {
    "deletable": false,
    "editable": false
   },
   "source": [
    "<!-- BEGIN QUESTION -->\n",
    "\n",
    "**Question 4:**  Plot a histogram for all Census Block Groups with populations less than 20,000. (hint: qqplot or matplotpy.pyplot or other plotting libraries are all ok.) Please nicely label the elements in a histogram."
   ]
  },
  {
   "cell_type": "markdown",
   "id": "50ae17ef",
   "metadata": {
    "tags": [
     "otter_answer_cell"
    ]
   },
   "source": [
    "_Type your answer here, replacing this text._"
   ]
  },
  {
   "cell_type": "markdown",
   "id": "27cf8218-09b8-49ca-b97d-a4dc450dc369",
   "metadata": {
    "deletable": false,
    "editable": false
   },
   "source": [
    "<!-- END QUESTION -->\n",
    "\n",
    "**question 5**: How many Census Block Groups are there in California (referring to this particular dataset)? Assign this value to `q_5`. *hint*: you need two steps to slice the data to have california only: 1) you need to fill up the `fips` code as some of them only have 4 digits (e.g., California's code in FIPS is 06, but in the `fips` column, it starts with `6`, missing the lead zero.) ; 2)take out the first two digits from `fips'. "
   ]
  },
  {
   "cell_type": "code",
   "execution_count": null,
   "id": "98a6accb-69a3-433a-b292-3491f9be7df8",
   "metadata": {
    "tags": [
     "otter_answer_cell"
    ]
   },
   "outputs": [],
   "source": [
    "df['fips'] = ...\n",
    "df['state_fips'] = ...\n",
    "q_5= ...\n",
    "q_5"
   ]
  },
  {
   "cell_type": "code",
   "execution_count": null,
   "id": "75ce7f31",
   "metadata": {
    "deletable": false,
    "editable": false
   },
   "outputs": [],
   "source": [
    "grader.check(\"q_5\")"
   ]
  },
  {
   "cell_type": "markdown",
   "id": "ab647533",
   "metadata": {
    "deletable": false,
    "editable": false
   },
   "source": [
    "<!-- BEGIN QUESTION -->\n",
    "\n"
   ]
  },
  {
   "cell_type": "raw",
   "id": "c7d23a0b-87a3-41b3-a62e-cb3fa6ccdc62",
   "metadata": {
    "deletable": false,
    "editable": false
   },
   "source": [
    "\"question 6\": How does the average score of \"Respiratory Hazard\" in California Block Groups compare to the rest of the country? Does this make sense to you?"
   ]
  },
  {
   "cell_type": "markdown",
   "id": "1d4495db",
   "metadata": {
    "tags": [
     "otter_answer_cell"
    ]
   },
   "source": [
    "_Type your answer here, replacing this text._"
   ]
  },
  {
   "cell_type": "markdown",
   "id": "3dc797e1-9ebe-4ddc-abfa-75a4e10ac1a8",
   "metadata": {
    "deletable": false,
    "editable": false
   },
   "source": [
    "<!-- END QUESTION -->\n",
    "\n",
    "**Congratulations**, you are finished with lab 02 of ENVECON 105!"
   ]
  },
  {
   "cell_type": "markdown",
   "id": "d3420cde-87bf-4be4-aab0-3d41674110d0",
   "metadata": {},
   "source": [
    "## Submission\n",
    "\n",
    "Make sure you have run all cells in your notebook in order before running the cell below, so that all images/graphs appear in the output. The cell below will generate a zip file for you to submit to Gradescope by uploading. Find the zip file in your local directory in datahub. **Please save before exporting!**"
   ]
  },
  {
   "cell_type": "code",
   "execution_count": null,
   "id": "14517844-d936-403e-804b-5aa26a68b53d",
   "metadata": {},
   "outputs": [],
   "source": [
    "# Save your notebook first, then run this cell to export your submission.\n",
    "#grader.export(run_tests=True)"
   ]
  }
 ],
 "metadata": {
  "colab": {
   "provenance": []
  },
  "kernelspec": {
   "display_name": "Python 3 (ipykernel)",
   "language": "python",
   "name": "python3"
  },
  "language_info": {
   "codemirror_mode": {
    "name": "ipython",
    "version": 3
   },
   "file_extension": ".py",
   "mimetype": "text/x-python",
   "name": "python",
   "nbconvert_exporter": "python",
   "pygments_lexer": "ipython3",
   "version": "3.11.13"
  }
 },
 "nbformat": 4,
 "nbformat_minor": 5
}
