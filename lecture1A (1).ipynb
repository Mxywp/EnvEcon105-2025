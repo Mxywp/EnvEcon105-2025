{
  "cells": [
    {
      "cell_type": "markdown",
      "metadata": {
        "id": "GVPxrQ4eKhvL"
      },
      "source": [
        "# Week 1: Course overview\n",
        "\n",
        "This course is a practical exploration of environmental data and analysis. The **objective** of this first lecture is to introduce both the course structure and the way we will work with data and code.  We will rely exclusively on Jupyter Notebooks to edit and execute Python code. I encourage you to follow along in lecture in your own Notebook.\n",
        "\n",
        "You can, if you want, [run the Notebook from your locally](https://docs.jupyter.org/en/latest/running.html).  But don't worry about it!!  We will use [Colab](https://colab.research.google.com/) (Note: you need to have a Gmail account to use it) to run our Notebook, our narrative code. Just to ensure you're up and running, execute this code in a live Notebook."
      ]
    },
    {
      "cell_type": "code",
      "execution_count": null,
      "metadata": {
        "colab": {
          "base_uri": "https://localhost:8080/"
        },
        "id": "03j-69RcKhvO",
        "outputId": "24683bf7-2b99-42e0-f56a-81b69eb495f2"
      },
      "outputs": [
        {
          "output_type": "stream",
          "name": "stdout",
          "text": [
            "hello world\n"
          ]
        }
      ],
      "source": [
        "print(\"hello world\")"
      ]
    },
    {
      "cell_type": "markdown",
      "source": [
        "#Why Python for Data Analysis?"
      ],
      "metadata": {
        "id": "XX4TvTLY6qmt"
      }
    },
    {
      "cell_type": "markdown",
      "source": [
        "Since its first appearance in 1991, Python has become one of the most popular **interpreted (vs. compiled)** programming languages, along with Perl, Ruby, and others.\n",
        "\n",
        "In the last 20 years, Python has gone from a bleeding-edge or \"at your own risk\" scientific computing language to one of the most important languages for data science, machine learning, and general software development in academia and industry."
      ],
      "metadata": {
        "id": "xF7WDMCb62Ce"
      }
    },
    {
      "cell_type": "markdown",
      "source": [
        "**Two-language problem** ---\n",
        "\n",
        "In many organizations, it is common to research, prototype, and test new ideas using a more specialized computing language like SAS or R and then later port those ideas to be part of a larger production system written in, say, Java, C#, or C++. What people are increasingly finding is that Python is a suitable language not only for doing research and prototyping but also for building the production systems."
      ],
      "metadata": {
        "id": "DbQSDWB38IDu"
      }
    },
    {
      "cell_type": "markdown",
      "source": [
        "#Variables and types\n",
        "\n",
        "Basic variable types in Python consist of strings and numeric types. Let's look at both of\n",
        "these types in this section."
      ],
      "metadata": {
        "id": "pQ1SIwgKZOQz"
      }
    },
    {
      "cell_type": "markdown",
      "source": [
        "##Strings\n",
        "\n",
        "In Python, a **string** is a variable type that stores text characters such as letters, numbers, special characters, and punctuation. In Python, we use single or double quotation marks to\n",
        "indicate that the variable is a string rather than a number:"
      ],
      "metadata": {
        "id": "X4wBvKKTZRVD"
      }
    },
    {
      "cell_type": "code",
      "source": [
        "var = 'Hello, World!'\n",
        "print(var)"
      ],
      "metadata": {
        "colab": {
          "base_uri": "https://localhost:8080/"
        },
        "id": "JxqY0lcuZni7",
        "outputId": "95b1fcc2-dff4-4462-dc2b-a7f79c79233f"
      },
      "execution_count": null,
      "outputs": [
        {
          "output_type": "stream",
          "name": "stdout",
          "text": [
            "Hello, World!\n"
          ]
        }
      ]
    },
    {
      "cell_type": "markdown",
      "source": [
        "Strings cannot be used for mathematical operations on numbers. But they can be used for\n",
        "other useful operations, as we see in the following example:"
      ],
      "metadata": {
        "id": "Ms_RnX7eZzat"
      }
    },
    {
      "cell_type": "code",
      "source": [
        "string_1 = '1'\n",
        "string_2 = '2'\n",
        "string_sum = string_1 + string_2\n",
        "print(string_sum)"
      ],
      "metadata": {
        "colab": {
          "base_uri": "https://localhost:8080/"
        },
        "id": "ygTbX5tSZ0wA",
        "outputId": "3c03402c-a443-4849-d4c1-c51ca7d05af8"
      },
      "execution_count": null,
      "outputs": [
        {
          "output_type": "stream",
          "name": "stdout",
          "text": [
            "12\n"
          ]
        }
      ]
    },
    {
      "cell_type": "markdown",
      "source": [
        "The result of the preceding code is to print string '12', not '3'. Instead of adding the two\n",
        "numbers, the + operator performs **concatenation** (appending the second string to the end of the first string) in Python when operating on two strings.\n",
        "\n",
        "Other operators that act on strings include the \\* operator (for repeating strings number of times, for example, string_1 \\* 3) and the < and > operators (to compare the ASCII values of the strings).\n",
        "\n",
        "To convert data from a numeric type to a string, we can use the **str()** method.\n",
        "\n",
        "Because strings are sequences (of characters), we can index them and slice them (like we can do with other data containers, as you will see later). A slice is a contiguous section of a string. To index/slice them, we use integers enclosed in square brackets to indicate the\n",
        "character's position:"
      ],
      "metadata": {
        "id": "AhF_PYcyZ6y6"
      }
    },
    {
      "cell_type": "code",
      "source": [
        "test_string = 'Environment Economics'\n",
        "print(test_string[0])"
      ],
      "metadata": {
        "colab": {
          "base_uri": "https://localhost:8080/"
        },
        "id": "MI0kbtUCaqT-",
        "outputId": "c89e29de-0119-43f7-fa8a-f35ab58de774"
      },
      "execution_count": null,
      "outputs": [
        {
          "output_type": "stream",
          "name": "stdout",
          "text": [
            "E\n"
          ]
        }
      ]
    },
    {
      "cell_type": "markdown",
      "source": [
        "Python is zero-indexed, so the first index is `0` and the second is `1` and so on."
      ],
      "metadata": {
        "id": "3gqZr7_mhIVV"
      }
    },
    {
      "cell_type": "markdown",
      "source": [
        "To slice strings, we include the beginning and end positions, separated by a colon, in the square brackets. Note that the end position will include all the characters up to but not including the end position, as we see in the following example:"
      ],
      "metadata": {
        "id": "WXpH3bsta9YE"
      }
    },
    {
      "cell_type": "code",
      "source": [
        "print(test_string[0:6])"
      ],
      "metadata": {
        "colab": {
          "base_uri": "https://localhost:8080/"
        },
        "id": "nUr628GwbCMy",
        "outputId": "ad43b08c-f469-4005-979e-41f0dd0490dc"
      },
      "execution_count": null,
      "outputs": [
        {
          "output_type": "stream",
          "name": "stdout",
          "text": [
            "Enviro\n"
          ]
        }
      ]
    },
    {
      "cell_type": "markdown",
      "source": [
        "Earlier, we mentioned the **str()** method. There are dozens of other methods for strings. A full list of them is available in the online Python documentation at www.python.org.\n",
        "\n",
        "Methods include those for case conversion, finding specific substrings, and stripping whitespace. We'll discuss one more method here-the **split()** method. The split() method acts on a string and takes a *separator* argument."
      ],
      "metadata": {
        "id": "DOqyc-4MbTSV"
      }
    },
    {
      "cell_type": "markdown",
      "source": [
        "The output is a list of strings; each item in the list is a component of the original string, split\n",
        "by separator. This is very useful for parsing strings that are delimited by punctuation\n",
        "characters such as , or ; . We will discuss lists shortly. Here is an example of the\n",
        "split() method:"
      ],
      "metadata": {
        "id": "6eKJLo2lbrKO"
      }
    },
    {
      "cell_type": "code",
      "source": [
        "test_split_string = 'Jones,Bill,49,Atlanta,GA,12345'\n",
        "output = test_split_string.split(',')\n",
        "print(output)"
      ],
      "metadata": {
        "colab": {
          "base_uri": "https://localhost:8080/"
        },
        "id": "z3KmRTnqbhQG",
        "outputId": "178476cd-8dbe-4bab-c398-986febed9d2a"
      },
      "execution_count": null,
      "outputs": [
        {
          "output_type": "stream",
          "name": "stdout",
          "text": [
            "['Jones', 'Bill', '49', 'Atlanta', 'GA', '12345']\n"
          ]
        }
      ]
    },
    {
      "cell_type": "markdown",
      "source": [
        "##Numeric types"
      ],
      "metadata": {
        "id": "niYdV-WQcHmt"
      }
    },
    {
      "cell_type": "markdown",
      "source": [
        "The two numeric types in Python that are most useful for analytics are **integers** and **floating-point numbers**. To convert to these types, you can use the **int()** and **float()**\n",
        "functions, respectively. The most common operations on numbers are supported with the usual operators: +, -, *, /, <, and >. Modules containing special methods for numeric types\n",
        "that are particularly useful for analytics include **math** and **random**."
      ],
      "metadata": {
        "id": "xERLHJKbcRJ9"
      }
    },
    {
      "cell_type": "markdown",
      "source": [
        "##The Boolean type\n",
        "is a special integer type that can be used to represent the *True* and\n",
        "*False* values. To convert an integer to a Boolean type, you can use the **bool()** function. A\n",
        "zero gets converted to *False*; any other integer would get converted to *True*. Boolean variables behave like 1 (True) and 0 (False), except that they return *True* and *False*, respectively, when converted to strings."
      ],
      "metadata": {
        "id": "8HolMm6OcwQe"
      }
    },
    {
      "cell_type": "markdown",
      "source": [
        "# References\n",
        "\n",
        "1. Vikas (Vik) Kumar, Healthcare Analytics Made Simple: Techniques in healthcare computing using machine learning and Python, Copyright © 2018 Packt Publishing\n",
        "\n",
        "2. McKinney, W. (2022) Python for Data Analysis: Data Wrangling with pandas, NumPy, and Jupyter, 3rd Edition. O’Reilly Media, Inc. open access: https://wesmckinney.com/book/"
      ],
      "metadata": {
        "id": "kJCEMrKgvElA"
      }
    }
  ],
  "metadata": {
    "kernelspec": {
      "display_name": "Python 3",
      "language": "python",
      "name": "python3"
    },
    "language_info": {
      "codemirror_mode": {
        "name": "ipython",
        "version": 3
      },
      "file_extension": ".py",
      "mimetype": "text/x-python",
      "name": "python",
      "nbconvert_exporter": "python",
      "pygments_lexer": "ipython3",
      "version": "3.7.6"
    },
    "colab": {
      "provenance": [],
      "toc_visible": true
    }
  },
  "nbformat": 4,
  "nbformat_minor": 0
}